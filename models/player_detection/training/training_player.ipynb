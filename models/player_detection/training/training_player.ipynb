{
 "cells": [
  {
   "cell_type": "code",
   "id": "initial_id",
   "metadata": {
    "collapsed": true,
    "ExecuteTime": {
     "end_time": "2024-09-01T06:18:37.863385Z",
     "start_time": "2024-09-01T06:17:54.722856Z"
    }
   },
   "source": "!pip install roboflow",
   "outputs": [
    {
     "name": "stdout",
     "output_type": "stream",
     "text": [
      "Collecting roboflow\r\n",
      "  Obtaining dependency information for roboflow from https://files.pythonhosted.org/packages/54/35/d3632bd5cf1ade18e31c9ff8e0f1deffdcc74294ff82c250a13b79d10014/roboflow-1.1.44-py3-none-any.whl.metadata\r\n",
      "  Downloading roboflow-1.1.44-py3-none-any.whl.metadata (9.7 kB)\r\n",
      "Requirement already satisfied: certifi in /Users/shubhamgupta/Desktop/Adobe-Gensolve_Task-2/venv/lib/python3.11/site-packages (from roboflow) (2024.7.4)\r\n",
      "Collecting idna==3.7 (from roboflow)\r\n",
      "  Obtaining dependency information for idna==3.7 from https://files.pythonhosted.org/packages/e5/3e/741d8c82801c347547f8a2a06aa57dbb1992be9e948df2ea0eda2c8b79e8/idna-3.7-py3-none-any.whl.metadata\r\n",
      "  Downloading idna-3.7-py3-none-any.whl.metadata (9.9 kB)\r\n",
      "Requirement already satisfied: cycler in /Users/shubhamgupta/Desktop/Adobe-Gensolve_Task-2/venv/lib/python3.11/site-packages (from roboflow) (0.12.1)\r\n",
      "Requirement already satisfied: kiwisolver>=1.3.1 in /Users/shubhamgupta/Desktop/Adobe-Gensolve_Task-2/venv/lib/python3.11/site-packages (from roboflow) (1.4.5)\r\n",
      "Requirement already satisfied: matplotlib in /Users/shubhamgupta/Desktop/Adobe-Gensolve_Task-2/venv/lib/python3.11/site-packages (from roboflow) (3.8.0)\r\n",
      "Requirement already satisfied: numpy>=1.18.5 in /Users/shubhamgupta/Desktop/Adobe-Gensolve_Task-2/venv/lib/python3.11/site-packages (from roboflow) (1.24.1)\r\n",
      "Collecting opencv-python-headless==4.10.0.84 (from roboflow)\r\n",
      "  Obtaining dependency information for opencv-python-headless==4.10.0.84 from https://files.pythonhosted.org/packages/1c/9b/583c8d9259f6fc19413f83fd18dd8e6cbc8eefb0b4dc6da52dd151fe3272/opencv_python_headless-4.10.0.84-cp37-abi3-macosx_11_0_arm64.whl.metadata\r\n",
      "  Downloading opencv_python_headless-4.10.0.84-cp37-abi3-macosx_11_0_arm64.whl.metadata (20 kB)\r\n",
      "Requirement already satisfied: Pillow>=7.1.2 in /Users/shubhamgupta/Desktop/Adobe-Gensolve_Task-2/venv/lib/python3.11/site-packages (from roboflow) (10.1.0)\r\n",
      "Requirement already satisfied: python-dateutil in /Users/shubhamgupta/Desktop/Adobe-Gensolve_Task-2/venv/lib/python3.11/site-packages (from roboflow) (2.9.0.post0)\r\n",
      "Collecting python-dotenv (from roboflow)\r\n",
      "  Obtaining dependency information for python-dotenv from https://files.pythonhosted.org/packages/6a/3e/b68c118422ec867fa7ab88444e1274aa40681c606d59ac27de5a5588f082/python_dotenv-1.0.1-py3-none-any.whl.metadata\r\n",
      "  Downloading python_dotenv-1.0.1-py3-none-any.whl.metadata (23 kB)\r\n",
      "Requirement already satisfied: requests in /Users/shubhamgupta/Desktop/Adobe-Gensolve_Task-2/venv/lib/python3.11/site-packages (from roboflow) (2.32.3)\r\n",
      "Requirement already satisfied: six in /Users/shubhamgupta/Desktop/Adobe-Gensolve_Task-2/venv/lib/python3.11/site-packages (from roboflow) (1.16.0)\r\n",
      "Requirement already satisfied: urllib3>=1.26.6 in /Users/shubhamgupta/Desktop/Adobe-Gensolve_Task-2/venv/lib/python3.11/site-packages (from roboflow) (2.2.2)\r\n",
      "Requirement already satisfied: tqdm>=4.41.0 in /Users/shubhamgupta/Desktop/Adobe-Gensolve_Task-2/venv/lib/python3.11/site-packages (from roboflow) (4.66.1)\r\n",
      "Requirement already satisfied: PyYAML>=5.3.1 in /Users/shubhamgupta/Desktop/Adobe-Gensolve_Task-2/venv/lib/python3.11/site-packages (from roboflow) (6.0.2)\r\n",
      "Collecting requests-toolbelt (from roboflow)\r\n",
      "  Obtaining dependency information for requests-toolbelt from https://files.pythonhosted.org/packages/3f/51/d4db610ef29373b879047326cbf6fa98b6c1969d6f6dc423279de2b1be2c/requests_toolbelt-1.0.0-py2.py3-none-any.whl.metadata\r\n",
      "  Downloading requests_toolbelt-1.0.0-py2.py3-none-any.whl.metadata (14 kB)\r\n",
      "Collecting filetype (from roboflow)\r\n",
      "  Obtaining dependency information for filetype from https://files.pythonhosted.org/packages/18/79/1b8fa1bb3568781e84c9200f951c735f3f157429f44be0495da55894d620/filetype-1.2.0-py2.py3-none-any.whl.metadata\r\n",
      "  Downloading filetype-1.2.0-py2.py3-none-any.whl.metadata (6.5 kB)\r\n",
      "Requirement already satisfied: contourpy>=1.0.1 in /Users/shubhamgupta/Desktop/Adobe-Gensolve_Task-2/venv/lib/python3.11/site-packages (from matplotlib->roboflow) (1.3.0)\r\n",
      "Requirement already satisfied: fonttools>=4.22.0 in /Users/shubhamgupta/Desktop/Adobe-Gensolve_Task-2/venv/lib/python3.11/site-packages (from matplotlib->roboflow) (4.53.1)\r\n",
      "Requirement already satisfied: packaging>=20.0 in /Users/shubhamgupta/Desktop/Adobe-Gensolve_Task-2/venv/lib/python3.11/site-packages (from matplotlib->roboflow) (24.1)\r\n",
      "Requirement already satisfied: pyparsing>=2.3.1 in /Users/shubhamgupta/Desktop/Adobe-Gensolve_Task-2/venv/lib/python3.11/site-packages (from matplotlib->roboflow) (3.1.4)\r\n",
      "Requirement already satisfied: charset-normalizer<4,>=2 in /Users/shubhamgupta/Desktop/Adobe-Gensolve_Task-2/venv/lib/python3.11/site-packages (from requests->roboflow) (3.3.2)\r\n",
      "Downloading roboflow-1.1.44-py3-none-any.whl (79 kB)\r\n",
      "\u001B[2K   \u001B[90m━━━━━━━━━━━━━━━━━━━━━━━━━━━━━━━━━━━━━━━━\u001B[0m \u001B[32m79.9/79.9 kB\u001B[0m \u001B[31m925.1 kB/s\u001B[0m eta \u001B[36m0:00:00\u001B[0m\u001B[36m0:00:01\u001B[0mm\r\n",
      "\u001B[?25hDownloading idna-3.7-py3-none-any.whl (66 kB)\r\n",
      "\u001B[2K   \u001B[90m━━━━━━━━━━━━━━━━━━━━━━━━━━━━━━━━━━━━━━━━\u001B[0m \u001B[32m66.8/66.8 kB\u001B[0m \u001B[31m930.6 kB/s\u001B[0m eta \u001B[36m0:00:00\u001B[0m\u001B[36m0:00:01\u001B[0m\r\n",
      "\u001B[?25hDownloading opencv_python_headless-4.10.0.84-cp37-abi3-macosx_11_0_arm64.whl (54.8 MB)\r\n",
      "\u001B[2K   \u001B[90m━━━━━━━━━━━━━━━━━━━━━━━━━━━━━━━━━━━━━━━━\u001B[0m \u001B[32m54.8/54.8 MB\u001B[0m \u001B[31m1.3 MB/s\u001B[0m eta \u001B[36m0:00:00\u001B[0m00:01\u001B[0m00:02\u001B[0mm\r\n",
      "\u001B[?25hDownloading filetype-1.2.0-py2.py3-none-any.whl (19 kB)\r\n",
      "Downloading python_dotenv-1.0.1-py3-none-any.whl (19 kB)\r\n",
      "Downloading requests_toolbelt-1.0.0-py2.py3-none-any.whl (54 kB)\r\n",
      "\u001B[2K   \u001B[90m━━━━━━━━━━━━━━━━━━━━━━━━━━━━━━━━━━━━━━━━\u001B[0m \u001B[32m54.5/54.5 kB\u001B[0m \u001B[31m945.2 kB/s\u001B[0m eta \u001B[36m0:00:00\u001B[0ma \u001B[36m0:00:01\u001B[0m\r\n",
      "\u001B[?25hInstalling collected packages: filetype, python-dotenv, opencv-python-headless, idna, requests-toolbelt, roboflow\r\n",
      "  Attempting uninstall: opencv-python-headless\r\n",
      "    Found existing installation: opencv-python-headless 4.8.1.78\r\n",
      "    Uninstalling opencv-python-headless-4.8.1.78:\r\n",
      "      Successfully uninstalled opencv-python-headless-4.8.1.78\r\n",
      "  Attempting uninstall: idna\r\n",
      "    Found existing installation: idna 3.8\r\n",
      "    Uninstalling idna-3.8:\r\n",
      "      Successfully uninstalled idna-3.8\r\n",
      "Successfully installed filetype-1.2.0 idna-3.7 opencv-python-headless-4.10.0.84 python-dotenv-1.0.1 requests-toolbelt-1.0.0 roboflow-1.1.44\r\n",
      "\r\n",
      "\u001B[1m[\u001B[0m\u001B[34;49mnotice\u001B[0m\u001B[1;39;49m]\u001B[0m\u001B[39;49m A new release of pip is available: \u001B[0m\u001B[31;49m23.2.1\u001B[0m\u001B[39;49m -> \u001B[0m\u001B[32;49m24.2\u001B[0m\r\n",
      "\u001B[1m[\u001B[0m\u001B[34;49mnotice\u001B[0m\u001B[1;39;49m]\u001B[0m\u001B[39;49m To update, run: \u001B[0m\u001B[32;49mpip install --upgrade pip\u001B[0m\r\n"
     ]
    }
   ],
   "execution_count": 1
  },
  {
   "metadata": {
    "ExecuteTime": {
     "end_time": "2024-09-01T06:20:35.121336Z",
     "start_time": "2024-09-01T06:19:25.524597Z"
    }
   },
   "cell_type": "code",
   "source": [
    "from roboflow import Roboflow\n",
    "rf = Roboflow(api_key=\"PUPX5QV9wrs9aSPZAS4J\")\n",
    "project = rf.workspace(\"khangnguyen\").project(\"badminton-player-object-detection\")\n",
    "version = project.version(3)\n",
    "dataset = version.download(\"yolov8\")"
   ],
   "id": "3407f9ee80efc429",
   "outputs": [
    {
     "name": "stdout",
     "output_type": "stream",
     "text": [
      "loading Roboflow workspace...\n",
      "loading Roboflow project...\n",
      "Dependency ultralytics==8.0.196 is required but found version=8.2.84, to fix: `pip install ultralytics==8.0.196`\n"
     ]
    },
    {
     "name": "stderr",
     "output_type": "stream",
     "text": [
      "Downloading Dataset Version Zip in Badminton-Player-Object-Detection--3 to yolov8:: 100%|██████████| 62385/62385 [00:57<00:00, 1094.07it/s]"
     ]
    },
    {
     "name": "stdout",
     "output_type": "stream",
     "text": [
      "\n"
     ]
    },
    {
     "name": "stderr",
     "output_type": "stream",
     "text": [
      "\n",
      "Extracting Dataset Version Zip to Badminton-Player-Object-Detection--3 in yolov8:: 100%|██████████| 2470/2470 [00:00<00:00, 8847.82it/s]\n"
     ]
    }
   ],
   "execution_count": 2
  },
  {
   "metadata": {
    "ExecuteTime": {
     "end_time": "2024-09-01T06:25:04.767728Z",
     "start_time": "2024-09-01T06:25:04.764432Z"
    }
   },
   "cell_type": "code",
   "source": "import shutil",
   "id": "28902c7dbe50078",
   "outputs": [],
   "execution_count": 3
  },
  {
   "metadata": {
    "ExecuteTime": {
     "end_time": "2024-09-01T06:59:14.281619Z",
     "start_time": "2024-09-01T06:59:13.580835Z"
    }
   },
   "cell_type": "code",
   "source": [
    "shutil.move(\"Badminton-Player-Object-Detection--3/train\", \"Badminton-Player-Object-Detection--3/Badminton-Player-Object-Detection--3/train\")\n",
    "shutil.move(\"Badminton-Player-Object-Detection--3/valid\", \"Badminton-Player-Object-Detection--3/Badminton-Player-Object-Detection--3/valid\")\n",
    "shutil.move(\"Badminton-Player-Object-Detection--3/test\", \"Badminton-Player-Object-Detection--3/Badminton-Player-Object-Detection--3/test\")"
   ],
   "id": "b9766d7108bfb625",
   "outputs": [
    {
     "data": {
      "text/plain": [
       "'Badminton-Player-Object-Detection--3/Badminton-Player-Object-Detection--3/test'"
      ]
     },
     "execution_count": 7,
     "metadata": {},
     "output_type": "execute_result"
    }
   ],
   "execution_count": 7
  },
  {
   "metadata": {
    "ExecuteTime": {
     "end_time": "2024-09-01T07:00:52.317626Z",
     "start_time": "2024-09-01T06:59:32.597277Z"
    }
   },
   "cell_type": "code",
   "source": "!yolo task=detect mode=train model=yolov8m data = {dataset.location}/data.yaml epochs=100",
   "id": "88f31229fe90e075",
   "outputs": [
    {
     "name": "stdout",
     "output_type": "stream",
     "text": [
      "New https://pypi.org/project/ultralytics/8.2.85 available 😃 Update with 'pip install -U ultralytics'\r\n",
      "Ultralytics YOLOv8.2.84 🚀 Python-3.11.5 torch-2.4.0 CPU (Apple M2)\r\n",
      "\u001B[34m\u001B[1mengine/trainer: \u001B[0mtask=detect, mode=train, model=yolov8m, data=/Users/shubhamgupta/Desktop/Adobe-Gensolve_Task-2/GameSense-Adobe/models/player_detection/training/Badminton-Player-Object-Detection--3/data.yaml, epochs=100, time=None, patience=100, batch=16, imgsz=640, save=True, save_period=-1, cache=False, device=None, workers=8, project=None, name=train2, exist_ok=False, pretrained=True, optimizer=auto, verbose=True, seed=0, deterministic=True, single_cls=False, rect=False, cos_lr=False, close_mosaic=10, resume=False, amp=True, fraction=1.0, profile=False, freeze=None, multi_scale=False, overlap_mask=True, mask_ratio=4, dropout=0.0, val=True, split=val, save_json=False, save_hybrid=False, conf=None, iou=0.7, max_det=300, half=False, dnn=False, plots=True, source=None, vid_stride=1, stream_buffer=False, visualize=False, augment=False, agnostic_nms=False, classes=None, retina_masks=False, embed=None, show=False, save_frames=False, save_txt=False, save_conf=False, save_crop=False, show_labels=True, show_conf=True, show_boxes=True, line_width=None, format=torchscript, keras=False, optimize=False, int8=False, dynamic=False, simplify=False, opset=None, workspace=4, nms=False, lr0=0.01, lrf=0.01, momentum=0.937, weight_decay=0.0005, warmup_epochs=3.0, warmup_momentum=0.8, warmup_bias_lr=0.1, box=7.5, cls=0.5, dfl=1.5, pose=12.0, kobj=1.0, label_smoothing=0.0, nbs=64, hsv_h=0.015, hsv_s=0.7, hsv_v=0.4, degrees=0.0, translate=0.1, scale=0.5, shear=0.0, perspective=0.0, flipud=0.0, fliplr=0.5, bgr=0.0, mosaic=1.0, mixup=0.0, copy_paste=0.0, auto_augment=randaugment, erasing=0.4, crop_fraction=1.0, cfg=None, tracker=botsort.yaml, save_dir=runs/detect/train2\r\n",
      "Overriding model.yaml nc=80 with nc=2\r\n",
      "\r\n",
      "                   from  n    params  module                                       arguments                     \r\n",
      "  0                  -1  1      1392  ultralytics.nn.modules.conv.Conv             [3, 48, 3, 2]                 \r\n",
      "  1                  -1  1     41664  ultralytics.nn.modules.conv.Conv             [48, 96, 3, 2]                \r\n",
      "  2                  -1  2    111360  ultralytics.nn.modules.block.C2f             [96, 96, 2, True]             \r\n",
      "  3                  -1  1    166272  ultralytics.nn.modules.conv.Conv             [96, 192, 3, 2]               \r\n",
      "  4                  -1  4    813312  ultralytics.nn.modules.block.C2f             [192, 192, 4, True]           \r\n",
      "  5                  -1  1    664320  ultralytics.nn.modules.conv.Conv             [192, 384, 3, 2]              \r\n",
      "  6                  -1  4   3248640  ultralytics.nn.modules.block.C2f             [384, 384, 4, True]           \r\n",
      "  7                  -1  1   1991808  ultralytics.nn.modules.conv.Conv             [384, 576, 3, 2]              \r\n",
      "  8                  -1  2   3985920  ultralytics.nn.modules.block.C2f             [576, 576, 2, True]           \r\n",
      "  9                  -1  1    831168  ultralytics.nn.modules.block.SPPF            [576, 576, 5]                 \r\n",
      " 10                  -1  1         0  torch.nn.modules.upsampling.Upsample         [None, 2, 'nearest']          \r\n",
      " 11             [-1, 6]  1         0  ultralytics.nn.modules.conv.Concat           [1]                           \r\n",
      " 12                  -1  2   1993728  ultralytics.nn.modules.block.C2f             [960, 384, 2]                 \r\n",
      " 13                  -1  1         0  torch.nn.modules.upsampling.Upsample         [None, 2, 'nearest']          \r\n",
      " 14             [-1, 4]  1         0  ultralytics.nn.modules.conv.Concat           [1]                           \r\n",
      " 15                  -1  2    517632  ultralytics.nn.modules.block.C2f             [576, 192, 2]                 \r\n",
      " 16                  -1  1    332160  ultralytics.nn.modules.conv.Conv             [192, 192, 3, 2]              \r\n",
      " 17            [-1, 12]  1         0  ultralytics.nn.modules.conv.Concat           [1]                           \r\n",
      " 18                  -1  2   1846272  ultralytics.nn.modules.block.C2f             [576, 384, 2]                 \r\n",
      " 19                  -1  1   1327872  ultralytics.nn.modules.conv.Conv             [384, 384, 3, 2]              \r\n",
      " 20             [-1, 9]  1         0  ultralytics.nn.modules.conv.Concat           [1]                           \r\n",
      " 21                  -1  2   4207104  ultralytics.nn.modules.block.C2f             [960, 576, 2]                 \r\n",
      " 22        [15, 18, 21]  1   3776854  ultralytics.nn.modules.head.Detect           [2, [192, 384, 576]]          \r\n",
      "Model summary: 295 layers, 25,857,478 parameters, 25,857,462 gradients, 79.1 GFLOPs\r\n",
      "\r\n",
      "Transferred 469/475 items from pretrained weights\r\n",
      "\u001B[34m\u001B[1mTensorBoard: \u001B[0mStart with 'tensorboard --logdir runs/detect/train2', view at http://localhost:6006/\r\n",
      "Freezing layer 'model.22.dfl.conv.weight'\r\n",
      "/Users/shubhamgupta/Desktop/Adobe-Gensolve_Task-2/venv/lib/python3.11/site-packages/ultralytics/engine/trainer.py:268: FutureWarning: `torch.cuda.amp.GradScaler(args...)` is deprecated. Please use `torch.amp.GradScaler('cuda', args...)` instead.\r\n",
      "  self.scaler = torch.cuda.amp.GradScaler(enabled=self.amp)\r\n",
      "\u001B[34m\u001B[1mtrain: \u001B[0mScanning /Users/shubhamgupta/Desktop/Adobe-Gensolve_Task-2/GameSense-Adob\u001B[0m\r\n",
      "\u001B[34m\u001B[1mtrain: \u001B[0mNew cache created: /Users/shubhamgupta/Desktop/Adobe-Gensolve_Task-2/GameSense-Adobe/models/player_detection/training/Badminton-Player-Object-Detection--3/Badminton-Player-Object-Detection--3/train/labels.cache\r\n",
      "\u001B[34m\u001B[1mval: \u001B[0mScanning /Users/shubhamgupta/Desktop/Adobe-Gensolve_Task-2/GameSense-Adobe/\u001B[0m\r\n",
      "\u001B[34m\u001B[1mval: \u001B[0mNew cache created: /Users/shubhamgupta/Desktop/Adobe-Gensolve_Task-2/GameSense-Adobe/models/player_detection/training/Badminton-Player-Object-Detection--3/Badminton-Player-Object-Detection--3/valid/labels.cache\r\n",
      "Plotting labels to runs/detect/train2/labels.jpg... \r\n",
      "\u001B[34m\u001B[1moptimizer:\u001B[0m 'optimizer=auto' found, ignoring 'lr0=0.01' and 'momentum=0.937' and determining best 'optimizer', 'lr0' and 'momentum' automatically... \r\n",
      "\u001B[34m\u001B[1moptimizer:\u001B[0m AdamW(lr=0.001667, momentum=0.9) with parameter groups 77 weight(decay=0.0), 84 weight(decay=0.0005), 83 bias(decay=0.0)\r\n",
      "\u001B[34m\u001B[1mTensorBoard: \u001B[0mmodel graph visualization added ✅\r\n",
      "Image sizes 640 train, 640 val\r\n",
      "Using 0 dataloader workers\r\n",
      "Logging results to \u001B[1mruns/detect/train2\u001B[0m\r\n",
      "Starting training for 100 epochs...\r\n",
      "\r\n",
      "      Epoch    GPU_mem   box_loss   cls_loss   dfl_loss  Instances       Size\r\n",
      "      1/100         0G      1.338      3.961      1.366         44        640:  ^C\r\n",
      "      1/100         0G      1.338      3.961      1.366         44        640:  \r\n",
      "Traceback (most recent call last):\r\n",
      "  File \"/Users/shubhamgupta/Desktop/Adobe-Gensolve_Task-2/venv/bin/yolo\", line 8, in <module>\r\n",
      "    sys.exit(entrypoint())\r\n",
      "             ^^^^^^^^^^^^\r\n",
      "  File \"/Users/shubhamgupta/Desktop/Adobe-Gensolve_Task-2/venv/lib/python3.11/site-packages/ultralytics/cfg/__init__.py\", line 830, in entrypoint\r\n",
      "    getattr(model, mode)(**overrides)  # default args from model\r\n",
      "    ^^^^^^^^^^^^^^^^^^^^^^^^^^^^^^^^^\r\n",
      "  File \"/Users/shubhamgupta/Desktop/Adobe-Gensolve_Task-2/venv/lib/python3.11/site-packages/ultralytics/engine/model.py\", line 815, in train\r\n",
      "    self.trainer.train()\r\n",
      "  File \"/Users/shubhamgupta/Desktop/Adobe-Gensolve_Task-2/venv/lib/python3.11/site-packages/ultralytics/engine/trainer.py\", line 206, in train\r\n",
      "    self._do_train(world_size)\r\n",
      "  File \"/Users/shubhamgupta/Desktop/Adobe-Gensolve_Task-2/venv/lib/python3.11/site-packages/ultralytics/engine/trainer.py\", line 382, in _do_train\r\n",
      "    self.loss, self.loss_items = self.model(batch)\r\n",
      "                                 ^^^^^^^^^^^^^^^^^\r\n",
      "  File \"/Users/shubhamgupta/Desktop/Adobe-Gensolve_Task-2/venv/lib/python3.11/site-packages/torch/nn/modules/module.py\", line 1553, in _wrapped_call_impl\r\n",
      "    return self._call_impl(*args, **kwargs)\r\n",
      "           ^^^^^^^^^^^^^^^^^^^^^^^^^^^^^^^^\r\n",
      "  File \"/Users/shubhamgupta/Desktop/Adobe-Gensolve_Task-2/venv/lib/python3.11/site-packages/torch/nn/modules/module.py\", line 1562, in _call_impl\r\n",
      "    return forward_call(*args, **kwargs)\r\n",
      "           ^^^^^^^^^^^^^^^^^^^^^^^^^^^^^\r\n",
      "  File \"/Users/shubhamgupta/Desktop/Adobe-Gensolve_Task-2/venv/lib/python3.11/site-packages/ultralytics/nn/tasks.py\", line 105, in forward\r\n",
      "    return self.loss(x, *args, **kwargs)\r\n",
      "           ^^^^^^^^^^^^^^^^^^^^^^^^^^^^^\r\n",
      "  File \"/Users/shubhamgupta/Desktop/Adobe-Gensolve_Task-2/venv/lib/python3.11/site-packages/ultralytics/nn/tasks.py\", line 286, in loss\r\n",
      "    preds = self.forward(batch[\"img\"]) if preds is None else preds\r\n",
      "            ^^^^^^^^^^^^^^^^^^^^^^^^^^\r\n",
      "  File \"/Users/shubhamgupta/Desktop/Adobe-Gensolve_Task-2/venv/lib/python3.11/site-packages/ultralytics/nn/tasks.py\", line 106, in forward\r\n",
      "    return self.predict(x, *args, **kwargs)\r\n",
      "           ^^^^^^^^^^^^^^^^^^^^^^^^^^^^^^^^\r\n",
      "  File \"/Users/shubhamgupta/Desktop/Adobe-Gensolve_Task-2/venv/lib/python3.11/site-packages/ultralytics/nn/tasks.py\", line 124, in predict\r\n",
      "    return self._predict_once(x, profile, visualize, embed)\r\n",
      "           ^^^^^^^^^^^^^^^^^^^^^^^^^^^^^^^^^^^^^^^^^^^^^^^^\r\n",
      "  File \"/Users/shubhamgupta/Desktop/Adobe-Gensolve_Task-2/venv/lib/python3.11/site-packages/ultralytics/nn/tasks.py\", line 145, in _predict_once\r\n",
      "    x = m(x)  # run\r\n",
      "        ^^^^\r\n",
      "  File \"/Users/shubhamgupta/Desktop/Adobe-Gensolve_Task-2/venv/lib/python3.11/site-packages/torch/nn/modules/module.py\", line 1553, in _wrapped_call_impl\r\n",
      "    return self._call_impl(*args, **kwargs)\r\n",
      "           ^^^^^^^^^^^^^^^^^^^^^^^^^^^^^^^^\r\n",
      "  File \"/Users/shubhamgupta/Desktop/Adobe-Gensolve_Task-2/venv/lib/python3.11/site-packages/torch/nn/modules/module.py\", line 1562, in _call_impl\r\n",
      "    return forward_call(*args, **kwargs)\r\n",
      "           ^^^^^^^^^^^^^^^^^^^^^^^^^^^^^\r\n",
      "  File \"/Users/shubhamgupta/Desktop/Adobe-Gensolve_Task-2/venv/lib/python3.11/site-packages/ultralytics/nn/modules/block.py\", line 236, in forward\r\n",
      "    return self.cv2(torch.cat(y, 1))\r\n",
      "           ^^^^^^^^^^^^^^^^^^^^^^^^^\r\n",
      "  File \"/Users/shubhamgupta/Desktop/Adobe-Gensolve_Task-2/venv/lib/python3.11/site-packages/torch/nn/modules/module.py\", line 1553, in _wrapped_call_impl\r\n",
      "    return self._call_impl(*args, **kwargs)\r\n",
      "           ^^^^^^^^^^^^^^^^^^^^^^^^^^^^^^^^\r\n",
      "  File \"/Users/shubhamgupta/Desktop/Adobe-Gensolve_Task-2/venv/lib/python3.11/site-packages/torch/nn/modules/module.py\", line 1562, in _call_impl\r\n",
      "    return forward_call(*args, **kwargs)\r\n",
      "           ^^^^^^^^^^^^^^^^^^^^^^^^^^^^^\r\n",
      "  File \"/Users/shubhamgupta/Desktop/Adobe-Gensolve_Task-2/venv/lib/python3.11/site-packages/ultralytics/nn/modules/conv.py\", line 50, in forward\r\n",
      "    return self.act(self.bn(self.conv(x)))\r\n",
      "                            ^^^^^^^^^^^^\r\n",
      "  File \"/Users/shubhamgupta/Desktop/Adobe-Gensolve_Task-2/venv/lib/python3.11/site-packages/torch/nn/modules/module.py\", line 1553, in _wrapped_call_impl\r\n",
      "    return self._call_impl(*args, **kwargs)\r\n",
      "           ^^^^^^^^^^^^^^^^^^^^^^^^^^^^^^^^\r\n",
      "  File \"/Users/shubhamgupta/Desktop/Adobe-Gensolve_Task-2/venv/lib/python3.11/site-packages/torch/nn/modules/module.py\", line 1562, in _call_impl\r\n",
      "    return forward_call(*args, **kwargs)\r\n",
      "           ^^^^^^^^^^^^^^^^^^^^^^^^^^^^^\r\n",
      "  File \"/Users/shubhamgupta/Desktop/Adobe-Gensolve_Task-2/venv/lib/python3.11/site-packages/torch/nn/modules/conv.py\", line 458, in forward\r\n",
      "    return self._conv_forward(input, self.weight, self.bias)\r\n",
      "           ^^^^^^^^^^^^^^^^^^^^^^^^^^^^^^^^^^^^^^^^^^^^^^^^^\r\n",
      "  File \"/Users/shubhamgupta/Desktop/Adobe-Gensolve_Task-2/venv/lib/python3.11/site-packages/torch/nn/modules/conv.py\", line 454, in _conv_forward\r\n",
      "    return F.conv2d(input, weight, bias, self.stride,\r\n",
      "           ^^^^^^^^^^^^^^^^^^^^^^^^^^^^^^^^^^^^^^^^^^\r\n",
      "KeyboardInterrupt\r\n"
     ]
    }
   ],
   "execution_count": 8
  },
  {
   "metadata": {},
   "cell_type": "code",
   "outputs": [],
   "execution_count": null,
   "source": "",
   "id": "fcb688d336465b9a"
  }
 ],
 "metadata": {
  "kernelspec": {
   "display_name": "Python 3",
   "language": "python",
   "name": "python3"
  },
  "language_info": {
   "codemirror_mode": {
    "name": "ipython",
    "version": 2
   },
   "file_extension": ".py",
   "mimetype": "text/x-python",
   "name": "python",
   "nbconvert_exporter": "python",
   "pygments_lexer": "ipython2",
   "version": "2.7.6"
  }
 },
 "nbformat": 4,
 "nbformat_minor": 5
}
